{
 "cells": [
  {
   "cell_type": "markdown",
   "id": "c7868167",
   "metadata": {},
   "source": [
    "# Import Packages and Data"
   ]
  },
  {
   "cell_type": "code",
   "execution_count": 48,
   "id": "d62104f3",
   "metadata": {},
   "outputs": [],
   "source": [
    "# Data from https://data.seattle.gov/Transportation/Fremont-Bridge-Bicycle-Counter/65db-xm6k\n",
    "\n",
    "import pandas as pd\n",
    "import numpy as np\n",
    "import matplotlib.pyplot as plt\n",
    "import seaborn as sns"
   ]
  },
  {
   "cell_type": "code",
   "execution_count": 49,
   "id": "74e3a4f3",
   "metadata": {},
   "outputs": [],
   "source": [
    "bikes_df = pd.read_csv(\"BikeCounter.csv\")"
   ]
  },
  {
   "cell_type": "markdown",
   "id": "1a6f39b8",
   "metadata": {},
   "source": [
    "## Explore Data"
   ]
  },
  {
   "cell_type": "code",
   "execution_count": 50,
   "id": "cc8d3e3c",
   "metadata": {},
   "outputs": [
    {
     "data": {
      "text/html": [
       "<div>\n",
       "<style scoped>\n",
       "    .dataframe tbody tr th:only-of-type {\n",
       "        vertical-align: middle;\n",
       "    }\n",
       "\n",
       "    .dataframe tbody tr th {\n",
       "        vertical-align: top;\n",
       "    }\n",
       "\n",
       "    .dataframe thead th {\n",
       "        text-align: right;\n",
       "    }\n",
       "</style>\n",
       "<table border=\"1\" class=\"dataframe\">\n",
       "  <thead>\n",
       "    <tr style=\"text-align: right;\">\n",
       "      <th></th>\n",
       "      <th>Date</th>\n",
       "      <th>Total</th>\n",
       "      <th>East</th>\n",
       "      <th>West</th>\n",
       "    </tr>\n",
       "  </thead>\n",
       "  <tbody>\n",
       "    <tr>\n",
       "      <th>0</th>\n",
       "      <td>8/1/2022 0:00</td>\n",
       "      <td>23.0</td>\n",
       "      <td>7.0</td>\n",
       "      <td>16.0</td>\n",
       "    </tr>\n",
       "    <tr>\n",
       "      <th>1</th>\n",
       "      <td>8/1/2022 1:00</td>\n",
       "      <td>12.0</td>\n",
       "      <td>5.0</td>\n",
       "      <td>7.0</td>\n",
       "    </tr>\n",
       "    <tr>\n",
       "      <th>2</th>\n",
       "      <td>8/1/2022 2:00</td>\n",
       "      <td>3.0</td>\n",
       "      <td>0.0</td>\n",
       "      <td>3.0</td>\n",
       "    </tr>\n",
       "    <tr>\n",
       "      <th>3</th>\n",
       "      <td>8/1/2022 3:00</td>\n",
       "      <td>5.0</td>\n",
       "      <td>2.0</td>\n",
       "      <td>3.0</td>\n",
       "    </tr>\n",
       "    <tr>\n",
       "      <th>4</th>\n",
       "      <td>8/1/2022 4:00</td>\n",
       "      <td>10.0</td>\n",
       "      <td>2.0</td>\n",
       "      <td>8.0</td>\n",
       "    </tr>\n",
       "  </tbody>\n",
       "</table>\n",
       "</div>"
      ],
      "text/plain": [
       "            Date  Total  East  West\n",
       "0  8/1/2022 0:00   23.0   7.0  16.0\n",
       "1  8/1/2022 1:00   12.0   5.0   7.0\n",
       "2  8/1/2022 2:00    3.0   0.0   3.0\n",
       "3  8/1/2022 3:00    5.0   2.0   3.0\n",
       "4  8/1/2022 4:00   10.0   2.0   8.0"
      ]
     },
     "execution_count": 50,
     "metadata": {},
     "output_type": "execute_result"
    }
   ],
   "source": [
    "bikes_df.head()"
   ]
  },
  {
   "cell_type": "code",
   "execution_count": 51,
   "id": "fa48163e",
   "metadata": {},
   "outputs": [
    {
     "data": {
      "text/plain": [
       "Date      0\n",
       "Total    14\n",
       "East     14\n",
       "West     14\n",
       "dtype: int64"
      ]
     },
     "execution_count": 51,
     "metadata": {},
     "output_type": "execute_result"
    }
   ],
   "source": [
    "bikes_df.isna().sum()"
   ]
  },
  {
   "cell_type": "code",
   "execution_count": 52,
   "id": "b2017053",
   "metadata": {},
   "outputs": [
    {
     "data": {
      "text/html": [
       "<div>\n",
       "<style scoped>\n",
       "    .dataframe tbody tr th:only-of-type {\n",
       "        vertical-align: middle;\n",
       "    }\n",
       "\n",
       "    .dataframe tbody tr th {\n",
       "        vertical-align: top;\n",
       "    }\n",
       "\n",
       "    .dataframe thead th {\n",
       "        text-align: right;\n",
       "    }\n",
       "</style>\n",
       "<table border=\"1\" class=\"dataframe\">\n",
       "  <thead>\n",
       "    <tr style=\"text-align: right;\">\n",
       "      <th></th>\n",
       "      <th>Total</th>\n",
       "      <th>East</th>\n",
       "      <th>West</th>\n",
       "    </tr>\n",
       "  </thead>\n",
       "  <tbody>\n",
       "    <tr>\n",
       "      <th>count</th>\n",
       "      <td>91210.000000</td>\n",
       "      <td>91210.000000</td>\n",
       "      <td>91210.000000</td>\n",
       "    </tr>\n",
       "    <tr>\n",
       "      <th>mean</th>\n",
       "      <td>105.603859</td>\n",
       "      <td>47.193882</td>\n",
       "      <td>58.409977</td>\n",
       "    </tr>\n",
       "    <tr>\n",
       "      <th>std</th>\n",
       "      <td>133.270779</td>\n",
       "      <td>60.779588</td>\n",
       "      <td>82.619206</td>\n",
       "    </tr>\n",
       "    <tr>\n",
       "      <th>min</th>\n",
       "      <td>0.000000</td>\n",
       "      <td>0.000000</td>\n",
       "      <td>0.000000</td>\n",
       "    </tr>\n",
       "    <tr>\n",
       "      <th>25%</th>\n",
       "      <td>13.000000</td>\n",
       "      <td>6.000000</td>\n",
       "      <td>7.000000</td>\n",
       "    </tr>\n",
       "    <tr>\n",
       "      <th>50%</th>\n",
       "      <td>58.000000</td>\n",
       "      <td>26.000000</td>\n",
       "      <td>30.000000</td>\n",
       "    </tr>\n",
       "    <tr>\n",
       "      <th>75%</th>\n",
       "      <td>142.000000</td>\n",
       "      <td>65.000000</td>\n",
       "      <td>75.000000</td>\n",
       "    </tr>\n",
       "    <tr>\n",
       "      <th>max</th>\n",
       "      <td>1097.000000</td>\n",
       "      <td>698.000000</td>\n",
       "      <td>850.000000</td>\n",
       "    </tr>\n",
       "  </tbody>\n",
       "</table>\n",
       "</div>"
      ],
      "text/plain": [
       "              Total          East          West\n",
       "count  91210.000000  91210.000000  91210.000000\n",
       "mean     105.603859     47.193882     58.409977\n",
       "std      133.270779     60.779588     82.619206\n",
       "min        0.000000      0.000000      0.000000\n",
       "25%       13.000000      6.000000      7.000000\n",
       "50%       58.000000     26.000000     30.000000\n",
       "75%      142.000000     65.000000     75.000000\n",
       "max     1097.000000    698.000000    850.000000"
      ]
     },
     "execution_count": 52,
     "metadata": {},
     "output_type": "execute_result"
    }
   ],
   "source": [
    "bikes_df.describe()"
   ]
  },
  {
   "cell_type": "code",
   "execution_count": 53,
   "id": "cd39ce01",
   "metadata": {},
   "outputs": [
    {
     "data": {
      "image/png": "[encoded data removed]",
      "text/plain": [
       "<Figure size 1440x360 with 1 Axes>"
      ]
     },
     "metadata": {
      "needs_background": "light"
     },
     "output_type": "display_data"
    }
   ],
   "source": [
    "bikes_df['Total'].plot(figsize=(20,5))\n",
    "plt.show()"
   ]
  },
  {
   "cell_type": "markdown",
   "id": "e65549ff",
   "metadata": {},
   "source": [
    "## Create Timeseries Object"
   ]
  },
  {
   "cell_type": "code",
   "execution_count": 54,
   "id": "5caa952e",
   "metadata": {},
   "outputs": [],
   "source": [
    "bikes_df['Date'] = pd.to_datetime(bikes_df['Date'])"
   ]
  },
  {
   "cell_type": "code",
   "execution_count": 55,
   "id": "08e9f89c",
   "metadata": {},
   "outputs": [],
   "source": [
    "bikes_df.set_index('Date',inplace=True)"
   ]
  },
  {
   "cell_type": "code",
   "execution_count": 56,
   "id": "fa9fe541",
   "metadata": {},
   "outputs": [
    {
     "data": {
      "text/html": [
       "<div>\n",
       "<style scoped>\n",
       "    .dataframe tbody tr th:only-of-type {\n",
       "        vertical-align: middle;\n",
       "    }\n",
       "\n",
       "    .dataframe tbody tr th {\n",
       "        vertical-align: top;\n",
       "    }\n",
       "\n",
       "    .dataframe thead th {\n",
       "        text-align: right;\n",
       "    }\n",
       "</style>\n",
       "<table border=\"1\" class=\"dataframe\">\n",
       "  <thead>\n",
       "    <tr style=\"text-align: right;\">\n",
       "      <th></th>\n",
       "      <th>Total</th>\n",
       "      <th>East</th>\n",
       "      <th>West</th>\n",
       "    </tr>\n",
       "    <tr>\n",
       "      <th>Date</th>\n",
       "      <th></th>\n",
       "      <th></th>\n",
       "      <th></th>\n",
       "    </tr>\n",
       "  </thead>\n",
       "  <tbody>\n",
       "    <tr>\n",
       "      <th>2022-08-01 00:00:00</th>\n",
       "      <td>23.0</td>\n",
       "      <td>7.0</td>\n",
       "      <td>16.0</td>\n",
       "    </tr>\n",
       "    <tr>\n",
       "      <th>2022-08-01 01:00:00</th>\n",
       "      <td>12.0</td>\n",
       "      <td>5.0</td>\n",
       "      <td>7.0</td>\n",
       "    </tr>\n",
       "    <tr>\n",
       "      <th>2022-08-01 02:00:00</th>\n",
       "      <td>3.0</td>\n",
       "      <td>0.0</td>\n",
       "      <td>3.0</td>\n",
       "    </tr>\n",
       "    <tr>\n",
       "      <th>2022-08-01 03:00:00</th>\n",
       "      <td>5.0</td>\n",
       "      <td>2.0</td>\n",
       "      <td>3.0</td>\n",
       "    </tr>\n",
       "    <tr>\n",
       "      <th>2022-08-01 04:00:00</th>\n",
       "      <td>10.0</td>\n",
       "      <td>2.0</td>\n",
       "      <td>8.0</td>\n",
       "    </tr>\n",
       "  </tbody>\n",
       "</table>\n",
       "</div>"
      ],
      "text/plain": [
       "                     Total  East  West\n",
       "Date                                  \n",
       "2022-08-01 00:00:00   23.0   7.0  16.0\n",
       "2022-08-01 01:00:00   12.0   5.0   7.0\n",
       "2022-08-01 02:00:00    3.0   0.0   3.0\n",
       "2022-08-01 03:00:00    5.0   2.0   3.0\n",
       "2022-08-01 04:00:00   10.0   2.0   8.0"
      ]
     },
     "execution_count": 56,
     "metadata": {},
     "output_type": "execute_result"
    }
   ],
   "source": [
    "bikes_df.head()"
   ]
  },
  {
   "cell_type": "code",
   "execution_count": 57,
   "id": "1057e5e2",
   "metadata": {},
   "outputs": [],
   "source": [
    "bikes_df = bikes_df.asfreq('h')"
   ]
  },
  {
   "cell_type": "code",
   "execution_count": 58,
   "id": "85546e56",
   "metadata": {},
   "outputs": [
    {
     "data": {
      "text/plain": [
       "Total    14\n",
       "East     14\n",
       "West     14\n",
       "dtype: int64"
      ]
     },
     "execution_count": 58,
     "metadata": {},
     "output_type": "execute_result"
    }
   ],
   "source": [
    "bikes_df.isna().sum()"
   ]
  },
  {
   "cell_type": "code",
   "execution_count": 59,
   "id": "18a848c1",
   "metadata": {},
   "outputs": [
    {
     "data": {
      "text/plain": [
       "Total    0.000153\n",
       "East     0.000153\n",
       "West     0.000153\n",
       "dtype: float64"
      ]
     },
     "execution_count": 59,
     "metadata": {},
     "output_type": "execute_result"
    }
   ],
   "source": [
    "bikes_df.isna().sum()/len(bikes_df)"
   ]
  },
  {
   "cell_type": "code",
   "execution_count": 60,
   "id": "36047296",
   "metadata": {},
   "outputs": [
    {
     "data": {
      "text/plain": [
       "Total    0\n",
       "East     0\n",
       "West     0\n",
       "dtype: int64"
      ]
     },
     "execution_count": 60,
     "metadata": {},
     "output_type": "execute_result"
    }
   ],
   "source": [
    "bikes_df = bikes_df.fillna(method=\"ffill\")\n",
    "bikes_df.isna().sum()"
   ]
  },
  {
   "cell_type": "code",
   "execution_count": 61,
   "id": "459a4c74",
   "metadata": {},
   "outputs": [],
   "source": [
    "bikes_df = bikes_df['Total']"
   ]
  },
  {
   "cell_type": "markdown",
   "id": "3c1e5144",
   "metadata": {},
   "source": [
    "## Plot Trends"
   ]
  },
  {
   "cell_type": "code",
   "execution_count": 62,
   "id": "a9e229e7",
   "metadata": {},
   "outputs": [
    {
     "data": {
      "image/png": "[encoded data removed]",
      "text/plain": [
       "<Figure size 1440x360 with 1 Axes>"
      ]
     },
     "metadata": {
      "needs_background": "light"
     },
     "output_type": "display_data"
    }
   ],
   "source": [
    "bikes_df.plot(figsize=(20,5))\n",
    "plt.title(\"Fremont Bridge Bike Crossings per Hour\", size = 20)\n",
    "plt.show()"
   ]
  },
  {
   "cell_type": "markdown",
   "id": "e4c871b0",
   "metadata": {},
   "source": [
    "## Split Data"
   ]
  },
  {
   "cell_type": "code",
   "execution_count": 63,
   "id": "a816a4e6",
   "metadata": {},
   "outputs": [],
   "source": [
    "size = int(len(bikes_df)*0.8)\n",
    "bikes_train = bikes_df.iloc[:size]\n",
    "bikes_test = bikes_df.iloc[size:]"
   ]
  },
  {
   "cell_type": "code",
   "execution_count": 64,
   "id": "0adfa9fc",
   "metadata": {},
   "outputs": [
    {
     "data": {
      "text/plain": [
       "Date\n",
       "2021-01-29 14:00:00    126.0\n",
       "2021-01-29 15:00:00    161.0\n",
       "2021-01-29 16:00:00    160.0\n",
       "2021-01-29 17:00:00    122.0\n",
       "2021-01-29 18:00:00     82.0\n",
       "Freq: H, Name: Total, dtype: float64"
      ]
     },
     "execution_count": 64,
     "metadata": {},
     "output_type": "execute_result"
    }
   ],
   "source": [
    "bikes_train.tail()"
   ]
  },
  {
   "cell_type": "code",
   "execution_count": 65,
   "id": "bfb219d5",
   "metadata": {},
   "outputs": [
    {
     "data": {
      "text/plain": [
       "Date\n",
       "2021-01-29 19:00:00    23.0\n",
       "2021-01-29 20:00:00    18.0\n",
       "2021-01-29 21:00:00    21.0\n",
       "2021-01-29 22:00:00     8.0\n",
       "2021-01-29 23:00:00     9.0\n",
       "Freq: H, Name: Total, dtype: float64"
      ]
     },
     "execution_count": 65,
     "metadata": {},
     "output_type": "execute_result"
    }
   ],
   "source": [
    "bikes_test.head()"
   ]
  },
  {
   "cell_type": "markdown",
   "id": "f4a1a8ef",
   "metadata": {},
   "source": [
    "## Export Data"
   ]
  },
  {
   "cell_type": "code",
   "execution_count": 66,
   "id": "573bf212",
   "metadata": {},
   "outputs": [],
   "source": [
    "bikes_train.to_csv(\"BikeCounter - Train.csv\")\n",
    "bikes_test.to_csv(\"BikeCounter - Test.csv\")\n",
    "bikes_df.to_csv(\"BikeCounter - Clean.csv\")"
   ]
  }
 ],
 "metadata": {
  "kernelspec": {
   "display_name": "Python 3 (ipykernel)",
   "language": "python",
   "name": "python3"
  },
  "language_info": {
   "codemirror_mode": {
    "name": "ipython",
    "version": 3
   },
   "file_extension": ".py",
   "mimetype": "text/x-python",
   "name": "python",
   "nbconvert_exporter": "python",
   "pygments_lexer": "ipython3",
   "version": "3.9.12"
  }
 },
 "nbformat": 4,
 "nbformat_minor": 5
}
