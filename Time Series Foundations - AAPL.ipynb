{
 "cells": [
  {
   "cell_type": "markdown",
   "id": "e890f009",
   "metadata": {},
   "source": [
    "## Import packages and data"
   ]
  },
  {
   "cell_type": "code",
   "execution_count": 107,
   "id": "a9109f4f",
   "metadata": {},
   "outputs": [],
   "source": [
    "# Data from https://www.kaggle.com/datasets/szrlee/stock-time-series-20050101-to-20171231\n",
    "\n",
    "import numpy as np\n",
    "import pandas as pd\n",
    "import matplotlib.pyplot as plt\n",
    "import seaborn as sns"
   ]
  },
  {
   "cell_type": "code",
   "execution_count": 108,
   "id": "a66a0f1f",
   "metadata": {},
   "outputs": [],
   "source": [
    "aapl_df = pd.read_csv(\"aapl.csv\")"
   ]
  },
  {
   "cell_type": "markdown",
   "id": "2ee69098",
   "metadata": {},
   "source": [
    "## Examine the data"
   ]
  },
  {
   "cell_type": "code",
   "execution_count": 109,
   "id": "42b20f0b",
   "metadata": {},
   "outputs": [
    {
     "data": {
      "text/html": [
       "<div>\n",
       "<style scoped>\n",
       "    .dataframe tbody tr th:only-of-type {\n",
       "        vertical-align: middle;\n",
       "    }\n",
       "\n",
       "    .dataframe tbody tr th {\n",
       "        vertical-align: top;\n",
       "    }\n",
       "\n",
       "    .dataframe thead th {\n",
       "        text-align: right;\n",
       "    }\n",
       "</style>\n",
       "<table border=\"1\" class=\"dataframe\">\n",
       "  <thead>\n",
       "    <tr style=\"text-align: right;\">\n",
       "      <th></th>\n",
       "      <th>Open</th>\n",
       "      <th>High</th>\n",
       "      <th>Low</th>\n",
       "      <th>Close</th>\n",
       "      <th>Volume</th>\n",
       "    </tr>\n",
       "  </thead>\n",
       "  <tbody>\n",
       "    <tr>\n",
       "      <th>count</th>\n",
       "      <td>3019.000000</td>\n",
       "      <td>3019.000000</td>\n",
       "      <td>3019.000000</td>\n",
       "      <td>3019.000000</td>\n",
       "      <td>3.019000e+03</td>\n",
       "    </tr>\n",
       "    <tr>\n",
       "      <th>mean</th>\n",
       "      <td>64.673309</td>\n",
       "      <td>65.256833</td>\n",
       "      <td>64.033445</td>\n",
       "      <td>64.662892</td>\n",
       "      <td>1.311457e+08</td>\n",
       "    </tr>\n",
       "    <tr>\n",
       "      <th>std</th>\n",
       "      <td>44.524927</td>\n",
       "      <td>44.811772</td>\n",
       "      <td>44.230829</td>\n",
       "      <td>44.536448</td>\n",
       "      <td>1.018560e+08</td>\n",
       "    </tr>\n",
       "    <tr>\n",
       "      <th>min</th>\n",
       "      <td>7.390000</td>\n",
       "      <td>7.560000</td>\n",
       "      <td>7.170000</td>\n",
       "      <td>7.240000</td>\n",
       "      <td>1.147592e+07</td>\n",
       "    </tr>\n",
       "    <tr>\n",
       "      <th>25%</th>\n",
       "      <td>23.425000</td>\n",
       "      <td>23.805000</td>\n",
       "      <td>23.015000</td>\n",
       "      <td>23.420000</td>\n",
       "      <td>5.292889e+07</td>\n",
       "    </tr>\n",
       "    <tr>\n",
       "      <th>50%</th>\n",
       "      <td>57.860000</td>\n",
       "      <td>58.460000</td>\n",
       "      <td>57.320000</td>\n",
       "      <td>57.920000</td>\n",
       "      <td>1.066271e+08</td>\n",
       "    </tr>\n",
       "    <tr>\n",
       "      <th>75%</th>\n",
       "      <td>99.165000</td>\n",
       "      <td>100.275000</td>\n",
       "      <td>98.385000</td>\n",
       "      <td>99.480000</td>\n",
       "      <td>1.798977e+08</td>\n",
       "    </tr>\n",
       "    <tr>\n",
       "      <th>max</th>\n",
       "      <td>175.110000</td>\n",
       "      <td>177.200000</td>\n",
       "      <td>174.860000</td>\n",
       "      <td>176.420000</td>\n",
       "      <td>8.432640e+08</td>\n",
       "    </tr>\n",
       "  </tbody>\n",
       "</table>\n",
       "</div>"
      ],
      "text/plain": [
       "              Open         High          Low        Close        Volume\n",
       "count  3019.000000  3019.000000  3019.000000  3019.000000  3.019000e+03\n",
       "mean     64.673309    65.256833    64.033445    64.662892  1.311457e+08\n",
       "std      44.524927    44.811772    44.230829    44.536448  1.018560e+08\n",
       "min       7.390000     7.560000     7.170000     7.240000  1.147592e+07\n",
       "25%      23.425000    23.805000    23.015000    23.420000  5.292889e+07\n",
       "50%      57.860000    58.460000    57.320000    57.920000  1.066271e+08\n",
       "75%      99.165000   100.275000    98.385000    99.480000  1.798977e+08\n",
       "max     175.110000   177.200000   174.860000   176.420000  8.432640e+08"
      ]
     },
     "execution_count": 109,
     "metadata": {},
     "output_type": "execute_result"
    }
   ],
   "source": [
    "aapl_df.describe()"
   ]
  },
  {
   "cell_type": "code",
   "execution_count": 110,
   "id": "d3b7d801",
   "metadata": {},
   "outputs": [
    {
     "data": {
      "text/html": [
       "<div>\n",
       "<style scoped>\n",
       "    .dataframe tbody tr th:only-of-type {\n",
       "        vertical-align: middle;\n",
       "    }\n",
       "\n",
       "    .dataframe tbody tr th {\n",
       "        vertical-align: top;\n",
       "    }\n",
       "\n",
       "    .dataframe thead th {\n",
       "        text-align: right;\n",
       "    }\n",
       "</style>\n",
       "<table border=\"1\" class=\"dataframe\">\n",
       "  <thead>\n",
       "    <tr style=\"text-align: right;\">\n",
       "      <th></th>\n",
       "      <th>Date</th>\n",
       "      <th>Open</th>\n",
       "      <th>High</th>\n",
       "      <th>Low</th>\n",
       "      <th>Close</th>\n",
       "      <th>Volume</th>\n",
       "      <th>Name</th>\n",
       "    </tr>\n",
       "  </thead>\n",
       "  <tbody>\n",
       "    <tr>\n",
       "      <th>0</th>\n",
       "      <td>2006-01-03</td>\n",
       "      <td>10.34</td>\n",
       "      <td>10.68</td>\n",
       "      <td>10.32</td>\n",
       "      <td>10.68</td>\n",
       "      <td>201853036</td>\n",
       "      <td>AAPL</td>\n",
       "    </tr>\n",
       "    <tr>\n",
       "      <th>1</th>\n",
       "      <td>2006-01-04</td>\n",
       "      <td>10.73</td>\n",
       "      <td>10.85</td>\n",
       "      <td>10.64</td>\n",
       "      <td>10.71</td>\n",
       "      <td>155225609</td>\n",
       "      <td>AAPL</td>\n",
       "    </tr>\n",
       "    <tr>\n",
       "      <th>2</th>\n",
       "      <td>2006-01-05</td>\n",
       "      <td>10.69</td>\n",
       "      <td>10.70</td>\n",
       "      <td>10.54</td>\n",
       "      <td>10.63</td>\n",
       "      <td>112396081</td>\n",
       "      <td>AAPL</td>\n",
       "    </tr>\n",
       "    <tr>\n",
       "      <th>3</th>\n",
       "      <td>2006-01-06</td>\n",
       "      <td>10.75</td>\n",
       "      <td>10.96</td>\n",
       "      <td>10.65</td>\n",
       "      <td>10.90</td>\n",
       "      <td>176139334</td>\n",
       "      <td>AAPL</td>\n",
       "    </tr>\n",
       "    <tr>\n",
       "      <th>4</th>\n",
       "      <td>2006-01-09</td>\n",
       "      <td>10.96</td>\n",
       "      <td>11.03</td>\n",
       "      <td>10.82</td>\n",
       "      <td>10.86</td>\n",
       "      <td>168861224</td>\n",
       "      <td>AAPL</td>\n",
       "    </tr>\n",
       "  </tbody>\n",
       "</table>\n",
       "</div>"
      ],
      "text/plain": [
       "         Date   Open   High    Low  Close     Volume  Name\n",
       "0  2006-01-03  10.34  10.68  10.32  10.68  201853036  AAPL\n",
       "1  2006-01-04  10.73  10.85  10.64  10.71  155225609  AAPL\n",
       "2  2006-01-05  10.69  10.70  10.54  10.63  112396081  AAPL\n",
       "3  2006-01-06  10.75  10.96  10.65  10.90  176139334  AAPL\n",
       "4  2006-01-09  10.96  11.03  10.82  10.86  168861224  AAPL"
      ]
     },
     "execution_count": 110,
     "metadata": {},
     "output_type": "execute_result"
    }
   ],
   "source": [
    "aapl_df.head()"
   ]
  },
  {
   "cell_type": "code",
   "execution_count": 111,
   "id": "1d0c6358",
   "metadata": {},
   "outputs": [
    {
     "data": {
      "text/plain": [
       "Date      0\n",
       "Open      0\n",
       "High      0\n",
       "Low       0\n",
       "Close     0\n",
       "Volume    0\n",
       "Name      0\n",
       "dtype: int64"
      ]
     },
     "execution_count": 111,
     "metadata": {},
     "output_type": "execute_result"
    }
   ],
   "source": [
    "aapl_df.isna().sum()"
   ]
  },
  {
   "cell_type": "code",
   "execution_count": 112,
   "id": "fd7356ba",
   "metadata": {},
   "outputs": [
    {
     "data": {
      "image/png": "[encoded data removed]",
      "text/plain": [
       "<Figure size 1440x360 with 1 Axes>"
      ]
     },
     "metadata": {
      "needs_background": "light"
     },
     "output_type": "display_data"
    }
   ],
   "source": [
    "aapl_df['Close'].plot(figsize=(20,5))\n",
    "plt.title(\"AAPL Closing Prices\",size=20)\n",
    "plt.show()"
   ]
  },
  {
   "cell_type": "markdown",
   "id": "e45d922b",
   "metadata": {},
   "source": [
    "## Create QQ Plot"
   ]
  },
  {
   "cell_type": "code",
   "execution_count": 113,
   "id": "a03d159a",
   "metadata": {},
   "outputs": [],
   "source": [
    "import scipy.stats\n",
    "import pylab"
   ]
  },
  {
   "cell_type": "code",
   "execution_count": 114,
   "id": "ab752e17",
   "metadata": {
    "scrolled": true
   },
   "outputs": [
    {
     "data": {
      "image/png": "[encoded data removed]",
      "text/plain": [
       "<Figure size 432x288 with 1 Axes>"
      ]
     },
     "metadata": {
      "needs_background": "light"
     },
     "output_type": "display_data"
    }
   ],
   "source": [
    "scipy.stats.probplot(aapl_df['Close'],plot=pylab)\n",
    "pylab.show()"
   ]
  },
  {
   "cell_type": "markdown",
   "id": "84c6783f",
   "metadata": {},
   "source": [
    "## Creating a Time Series Object"
   ]
  },
  {
   "cell_type": "code",
   "execution_count": 115,
   "id": "d9cdcd51",
   "metadata": {},
   "outputs": [],
   "source": [
    "aapl_df['Date'] = pd.to_datetime(aapl_df['Date'])"
   ]
  },
  {
   "cell_type": "code",
   "execution_count": 116,
   "id": "ce85068a",
   "metadata": {},
   "outputs": [
    {
     "name": "stderr",
     "output_type": "stream",
     "text": [
      "C:\\Users\\nkanungo\\AppData\\Local\\Temp\\ipykernel_22560\\2217752305.py:1: FutureWarning: Treating datetime data as categorical rather than numeric in `.describe` is deprecated and will be removed in a future version of pandas. Specify `datetime_is_numeric=True` to silence this warning and adopt the future behavior now.\n",
      "  aapl_df['Date'].describe()\n"
     ]
    },
    {
     "data": {
      "text/plain": [
       "count                    3019\n",
       "unique                   3019\n",
       "top       2006-01-03 00:00:00\n",
       "freq                        1\n",
       "first     2006-01-03 00:00:00\n",
       "last      2017-12-29 00:00:00\n",
       "Name: Date, dtype: object"
      ]
     },
     "execution_count": 116,
     "metadata": {},
     "output_type": "execute_result"
    }
   ],
   "source": [
    "aapl_df['Date'].describe()"
   ]
  },
  {
   "cell_type": "code",
   "execution_count": 117,
   "id": "c35929c3",
   "metadata": {},
   "outputs": [
    {
     "data": {
      "text/html": [
       "<div>\n",
       "<style scoped>\n",
       "    .dataframe tbody tr th:only-of-type {\n",
       "        vertical-align: middle;\n",
       "    }\n",
       "\n",
       "    .dataframe tbody tr th {\n",
       "        vertical-align: top;\n",
       "    }\n",
       "\n",
       "    .dataframe thead th {\n",
       "        text-align: right;\n",
       "    }\n",
       "</style>\n",
       "<table border=\"1\" class=\"dataframe\">\n",
       "  <thead>\n",
       "    <tr style=\"text-align: right;\">\n",
       "      <th></th>\n",
       "      <th>Date</th>\n",
       "      <th>Open</th>\n",
       "      <th>High</th>\n",
       "      <th>Low</th>\n",
       "      <th>Close</th>\n",
       "      <th>Volume</th>\n",
       "      <th>Name</th>\n",
       "    </tr>\n",
       "  </thead>\n",
       "  <tbody>\n",
       "    <tr>\n",
       "      <th>0</th>\n",
       "      <td>2006-01-03</td>\n",
       "      <td>10.34</td>\n",
       "      <td>10.68</td>\n",
       "      <td>10.32</td>\n",
       "      <td>10.68</td>\n",
       "      <td>201853036</td>\n",
       "      <td>AAPL</td>\n",
       "    </tr>\n",
       "    <tr>\n",
       "      <th>1</th>\n",
       "      <td>2006-01-04</td>\n",
       "      <td>10.73</td>\n",
       "      <td>10.85</td>\n",
       "      <td>10.64</td>\n",
       "      <td>10.71</td>\n",
       "      <td>155225609</td>\n",
       "      <td>AAPL</td>\n",
       "    </tr>\n",
       "    <tr>\n",
       "      <th>2</th>\n",
       "      <td>2006-01-05</td>\n",
       "      <td>10.69</td>\n",
       "      <td>10.70</td>\n",
       "      <td>10.54</td>\n",
       "      <td>10.63</td>\n",
       "      <td>112396081</td>\n",
       "      <td>AAPL</td>\n",
       "    </tr>\n",
       "    <tr>\n",
       "      <th>3</th>\n",
       "      <td>2006-01-06</td>\n",
       "      <td>10.75</td>\n",
       "      <td>10.96</td>\n",
       "      <td>10.65</td>\n",
       "      <td>10.90</td>\n",
       "      <td>176139334</td>\n",
       "      <td>AAPL</td>\n",
       "    </tr>\n",
       "    <tr>\n",
       "      <th>4</th>\n",
       "      <td>2006-01-09</td>\n",
       "      <td>10.96</td>\n",
       "      <td>11.03</td>\n",
       "      <td>10.82</td>\n",
       "      <td>10.86</td>\n",
       "      <td>168861224</td>\n",
       "      <td>AAPL</td>\n",
       "    </tr>\n",
       "  </tbody>\n",
       "</table>\n",
       "</div>"
      ],
      "text/plain": [
       "        Date   Open   High    Low  Close     Volume  Name\n",
       "0 2006-01-03  10.34  10.68  10.32  10.68  201853036  AAPL\n",
       "1 2006-01-04  10.73  10.85  10.64  10.71  155225609  AAPL\n",
       "2 2006-01-05  10.69  10.70  10.54  10.63  112396081  AAPL\n",
       "3 2006-01-06  10.75  10.96  10.65  10.90  176139334  AAPL\n",
       "4 2006-01-09  10.96  11.03  10.82  10.86  168861224  AAPL"
      ]
     },
     "execution_count": 117,
     "metadata": {},
     "output_type": "execute_result"
    }
   ],
   "source": [
    "aapl_df.head()"
   ]
  },
  {
   "cell_type": "code",
   "execution_count": 118,
   "id": "50032af7",
   "metadata": {},
   "outputs": [],
   "source": [
    "aapl_df.set_index('Date',inplace=True)"
   ]
  },
  {
   "cell_type": "code",
   "execution_count": 119,
   "id": "1dae4d8e",
   "metadata": {
    "scrolled": true
   },
   "outputs": [
    {
     "data": {
      "text/html": [
       "<div>\n",
       "<style scoped>\n",
       "    .dataframe tbody tr th:only-of-type {\n",
       "        vertical-align: middle;\n",
       "    }\n",
       "\n",
       "    .dataframe tbody tr th {\n",
       "        vertical-align: top;\n",
       "    }\n",
       "\n",
       "    .dataframe thead th {\n",
       "        text-align: right;\n",
       "    }\n",
       "</style>\n",
       "<table border=\"1\" class=\"dataframe\">\n",
       "  <thead>\n",
       "    <tr style=\"text-align: right;\">\n",
       "      <th></th>\n",
       "      <th>Open</th>\n",
       "      <th>High</th>\n",
       "      <th>Low</th>\n",
       "      <th>Close</th>\n",
       "      <th>Volume</th>\n",
       "      <th>Name</th>\n",
       "    </tr>\n",
       "    <tr>\n",
       "      <th>Date</th>\n",
       "      <th></th>\n",
       "      <th></th>\n",
       "      <th></th>\n",
       "      <th></th>\n",
       "      <th></th>\n",
       "      <th></th>\n",
       "    </tr>\n",
       "  </thead>\n",
       "  <tbody>\n",
       "    <tr>\n",
       "      <th>2006-01-03</th>\n",
       "      <td>10.34</td>\n",
       "      <td>10.68</td>\n",
       "      <td>10.32</td>\n",
       "      <td>10.68</td>\n",
       "      <td>201853036</td>\n",
       "      <td>AAPL</td>\n",
       "    </tr>\n",
       "    <tr>\n",
       "      <th>2006-01-04</th>\n",
       "      <td>10.73</td>\n",
       "      <td>10.85</td>\n",
       "      <td>10.64</td>\n",
       "      <td>10.71</td>\n",
       "      <td>155225609</td>\n",
       "      <td>AAPL</td>\n",
       "    </tr>\n",
       "    <tr>\n",
       "      <th>2006-01-05</th>\n",
       "      <td>10.69</td>\n",
       "      <td>10.70</td>\n",
       "      <td>10.54</td>\n",
       "      <td>10.63</td>\n",
       "      <td>112396081</td>\n",
       "      <td>AAPL</td>\n",
       "    </tr>\n",
       "    <tr>\n",
       "      <th>2006-01-06</th>\n",
       "      <td>10.75</td>\n",
       "      <td>10.96</td>\n",
       "      <td>10.65</td>\n",
       "      <td>10.90</td>\n",
       "      <td>176139334</td>\n",
       "      <td>AAPL</td>\n",
       "    </tr>\n",
       "    <tr>\n",
       "      <th>2006-01-09</th>\n",
       "      <td>10.96</td>\n",
       "      <td>11.03</td>\n",
       "      <td>10.82</td>\n",
       "      <td>10.86</td>\n",
       "      <td>168861224</td>\n",
       "      <td>AAPL</td>\n",
       "    </tr>\n",
       "  </tbody>\n",
       "</table>\n",
       "</div>"
      ],
      "text/plain": [
       "             Open   High    Low  Close     Volume  Name\n",
       "Date                                                   \n",
       "2006-01-03  10.34  10.68  10.32  10.68  201853036  AAPL\n",
       "2006-01-04  10.73  10.85  10.64  10.71  155225609  AAPL\n",
       "2006-01-05  10.69  10.70  10.54  10.63  112396081  AAPL\n",
       "2006-01-06  10.75  10.96  10.65  10.90  176139334  AAPL\n",
       "2006-01-09  10.96  11.03  10.82  10.86  168861224  AAPL"
      ]
     },
     "execution_count": 119,
     "metadata": {},
     "output_type": "execute_result"
    }
   ],
   "source": [
    "aapl_df.head()"
   ]
  },
  {
   "cell_type": "markdown",
   "id": "237304df",
   "metadata": {},
   "source": [
    "## Setting the Frequency"
   ]
  },
  {
   "cell_type": "code",
   "execution_count": 120,
   "id": "57313d33",
   "metadata": {},
   "outputs": [],
   "source": [
    "aapl_df = aapl_df.asfreq('b')"
   ]
  },
  {
   "cell_type": "code",
   "execution_count": 121,
   "id": "0972fc8c",
   "metadata": {
    "scrolled": true
   },
   "outputs": [
    {
     "data": {
      "text/html": [
       "<div>\n",
       "<style scoped>\n",
       "    .dataframe tbody tr th:only-of-type {\n",
       "        vertical-align: middle;\n",
       "    }\n",
       "\n",
       "    .dataframe tbody tr th {\n",
       "        vertical-align: top;\n",
       "    }\n",
       "\n",
       "    .dataframe thead th {\n",
       "        text-align: right;\n",
       "    }\n",
       "</style>\n",
       "<table border=\"1\" class=\"dataframe\">\n",
       "  <thead>\n",
       "    <tr style=\"text-align: right;\">\n",
       "      <th></th>\n",
       "      <th>Open</th>\n",
       "      <th>High</th>\n",
       "      <th>Low</th>\n",
       "      <th>Close</th>\n",
       "      <th>Volume</th>\n",
       "      <th>Name</th>\n",
       "    </tr>\n",
       "    <tr>\n",
       "      <th>Date</th>\n",
       "      <th></th>\n",
       "      <th></th>\n",
       "      <th></th>\n",
       "      <th></th>\n",
       "      <th></th>\n",
       "      <th></th>\n",
       "    </tr>\n",
       "  </thead>\n",
       "  <tbody>\n",
       "    <tr>\n",
       "      <th>2006-01-03</th>\n",
       "      <td>10.34</td>\n",
       "      <td>10.68</td>\n",
       "      <td>10.32</td>\n",
       "      <td>10.68</td>\n",
       "      <td>201853036.0</td>\n",
       "      <td>AAPL</td>\n",
       "    </tr>\n",
       "    <tr>\n",
       "      <th>2006-01-04</th>\n",
       "      <td>10.73</td>\n",
       "      <td>10.85</td>\n",
       "      <td>10.64</td>\n",
       "      <td>10.71</td>\n",
       "      <td>155225609.0</td>\n",
       "      <td>AAPL</td>\n",
       "    </tr>\n",
       "    <tr>\n",
       "      <th>2006-01-05</th>\n",
       "      <td>10.69</td>\n",
       "      <td>10.70</td>\n",
       "      <td>10.54</td>\n",
       "      <td>10.63</td>\n",
       "      <td>112396081.0</td>\n",
       "      <td>AAPL</td>\n",
       "    </tr>\n",
       "    <tr>\n",
       "      <th>2006-01-06</th>\n",
       "      <td>10.75</td>\n",
       "      <td>10.96</td>\n",
       "      <td>10.65</td>\n",
       "      <td>10.90</td>\n",
       "      <td>176139334.0</td>\n",
       "      <td>AAPL</td>\n",
       "    </tr>\n",
       "    <tr>\n",
       "      <th>2006-01-09</th>\n",
       "      <td>10.96</td>\n",
       "      <td>11.03</td>\n",
       "      <td>10.82</td>\n",
       "      <td>10.86</td>\n",
       "      <td>168861224.0</td>\n",
       "      <td>AAPL</td>\n",
       "    </tr>\n",
       "    <tr>\n",
       "      <th>2006-01-10</th>\n",
       "      <td>10.89</td>\n",
       "      <td>11.70</td>\n",
       "      <td>10.83</td>\n",
       "      <td>11.55</td>\n",
       "      <td>570088246.0</td>\n",
       "      <td>AAPL</td>\n",
       "    </tr>\n",
       "    <tr>\n",
       "      <th>2006-01-11</th>\n",
       "      <td>11.98</td>\n",
       "      <td>12.11</td>\n",
       "      <td>11.80</td>\n",
       "      <td>11.99</td>\n",
       "      <td>373548882.0</td>\n",
       "      <td>AAPL</td>\n",
       "    </tr>\n",
       "    <tr>\n",
       "      <th>2006-01-12</th>\n",
       "      <td>12.14</td>\n",
       "      <td>12.34</td>\n",
       "      <td>11.95</td>\n",
       "      <td>12.04</td>\n",
       "      <td>320201966.0</td>\n",
       "      <td>AAPL</td>\n",
       "    </tr>\n",
       "    <tr>\n",
       "      <th>2006-01-13</th>\n",
       "      <td>12.14</td>\n",
       "      <td>12.29</td>\n",
       "      <td>12.09</td>\n",
       "      <td>12.23</td>\n",
       "      <td>194153393.0</td>\n",
       "      <td>AAPL</td>\n",
       "    </tr>\n",
       "    <tr>\n",
       "      <th>2006-01-16</th>\n",
       "      <td>NaN</td>\n",
       "      <td>NaN</td>\n",
       "      <td>NaN</td>\n",
       "      <td>NaN</td>\n",
       "      <td>NaN</td>\n",
       "      <td>NaN</td>\n",
       "    </tr>\n",
       "  </tbody>\n",
       "</table>\n",
       "</div>"
      ],
      "text/plain": [
       "             Open   High    Low  Close       Volume  Name\n",
       "Date                                                     \n",
       "2006-01-03  10.34  10.68  10.32  10.68  201853036.0  AAPL\n",
       "2006-01-04  10.73  10.85  10.64  10.71  155225609.0  AAPL\n",
       "2006-01-05  10.69  10.70  10.54  10.63  112396081.0  AAPL\n",
       "2006-01-06  10.75  10.96  10.65  10.90  176139334.0  AAPL\n",
       "2006-01-09  10.96  11.03  10.82  10.86  168861224.0  AAPL\n",
       "2006-01-10  10.89  11.70  10.83  11.55  570088246.0  AAPL\n",
       "2006-01-11  11.98  12.11  11.80  11.99  373548882.0  AAPL\n",
       "2006-01-12  12.14  12.34  11.95  12.04  320201966.0  AAPL\n",
       "2006-01-13  12.14  12.29  12.09  12.23  194153393.0  AAPL\n",
       "2006-01-16    NaN    NaN    NaN    NaN          NaN   NaN"
      ]
     },
     "execution_count": 121,
     "metadata": {},
     "output_type": "execute_result"
    }
   ],
   "source": [
    "aapl_df.head(10)"
   ]
  },
  {
   "cell_type": "code",
   "execution_count": 122,
   "id": "27f0223b",
   "metadata": {},
   "outputs": [
    {
     "data": {
      "text/plain": [
       "Open      110\n",
       "High      110\n",
       "Low       110\n",
       "Close     110\n",
       "Volume    110\n",
       "Name      110\n",
       "dtype: int64"
      ]
     },
     "execution_count": 122,
     "metadata": {},
     "output_type": "execute_result"
    }
   ],
   "source": [
    "aapl_df.isna().sum()"
   ]
  },
  {
   "cell_type": "code",
   "execution_count": 123,
   "id": "e1c84e3c",
   "metadata": {},
   "outputs": [],
   "source": [
    "aapl_df['Close'] = aapl_df['Close'].fillna(method=\"ffill\")"
   ]
  },
  {
   "cell_type": "code",
   "execution_count": 124,
   "id": "ee840dc2",
   "metadata": {},
   "outputs": [
    {
     "data": {
      "text/plain": [
       "Open      110\n",
       "High      110\n",
       "Low       110\n",
       "Close       0\n",
       "Volume    110\n",
       "Name      110\n",
       "dtype: int64"
      ]
     },
     "execution_count": 124,
     "metadata": {},
     "output_type": "execute_result"
    }
   ],
   "source": [
    "aapl_df.isna().sum()"
   ]
  },
  {
   "cell_type": "markdown",
   "id": "82885a3a",
   "metadata": {},
   "source": [
    "## Selecting Series"
   ]
  },
  {
   "cell_type": "code",
   "execution_count": 125,
   "id": "496fcb80",
   "metadata": {},
   "outputs": [],
   "source": [
    "aapl_df = aapl_df['Close']"
   ]
  },
  {
   "cell_type": "code",
   "execution_count": 126,
   "id": "ab46e7b9",
   "metadata": {},
   "outputs": [
    {
     "data": {
      "text/plain": [
       "Date\n",
       "2006-01-03    10.68\n",
       "2006-01-04    10.71\n",
       "2006-01-05    10.63\n",
       "2006-01-06    10.90\n",
       "2006-01-09    10.86\n",
       "Freq: B, Name: Close, dtype: float64"
      ]
     },
     "execution_count": 126,
     "metadata": {},
     "output_type": "execute_result"
    }
   ],
   "source": [
    "aapl_df.head()"
   ]
  },
  {
   "cell_type": "code",
   "execution_count": 127,
   "id": "4817cd0f",
   "metadata": {},
   "outputs": [
    {
     "data": {
      "image/png": "[encoded data removed]",
      "text/plain": [
       "<Figure size 1440x360 with 1 Axes>"
      ]
     },
     "metadata": {
      "needs_background": "light"
     },
     "output_type": "display_data"
    }
   ],
   "source": [
    "aapl_df.plot(figsize=(20,5))\n",
    "plt.title(\"AAPL Closing Prices\",size=20)\n",
    "plt.show()"
   ]
  },
  {
   "cell_type": "markdown",
   "id": "11ab75f1",
   "metadata": {},
   "source": [
    "## Splitting Data"
   ]
  },
  {
   "cell_type": "code",
   "execution_count": 128,
   "id": "92843666",
   "metadata": {},
   "outputs": [],
   "source": [
    "size = int(len(aapl_df)*0.8)"
   ]
  },
  {
   "cell_type": "code",
   "execution_count": 129,
   "id": "fba6cc08",
   "metadata": {},
   "outputs": [],
   "source": [
    "df_train = aapl_df.iloc[:size]\n",
    "df_test = aapl_df.iloc[size:]"
   ]
  },
  {
   "cell_type": "code",
   "execution_count": 130,
   "id": "f822fe34",
   "metadata": {},
   "outputs": [
    {
     "data": {
      "text/plain": [
       "Date\n",
       "2015-07-31    121.30\n",
       "2015-08-03    118.44\n",
       "2015-08-04    114.64\n",
       "2015-08-05    115.40\n",
       "2015-08-06    115.13\n",
       "Freq: B, Name: Close, dtype: float64"
      ]
     },
     "execution_count": 130,
     "metadata": {},
     "output_type": "execute_result"
    }
   ],
   "source": [
    "df_train.tail()"
   ]
  },
  {
   "cell_type": "code",
   "execution_count": 131,
   "id": "7695721e",
   "metadata": {},
   "outputs": [
    {
     "data": {
      "text/plain": [
       "Date\n",
       "2015-08-07    115.52\n",
       "2015-08-10    119.72\n",
       "2015-08-11    113.49\n",
       "2015-08-12    115.24\n",
       "2015-08-13    115.15\n",
       "Freq: B, Name: Close, dtype: float64"
      ]
     },
     "execution_count": 131,
     "metadata": {},
     "output_type": "execute_result"
    }
   ],
   "source": [
    "df_test.head()"
   ]
  },
  {
   "cell_type": "markdown",
   "id": "4c2dbe68",
   "metadata": {},
   "source": [
    "## Export Data"
   ]
  },
  {
   "cell_type": "code",
   "execution_count": 132,
   "id": "e03a88d5",
   "metadata": {},
   "outputs": [],
   "source": [
    "df_train.to_csv(\"AAPL - Train.csv\")\n",
    "df_test.to_csv(\"AAPL - Test.csv\")\n",
    "aapl_df.to_csv(\"AAPL - Clean.csv\")"
   ]
  }
 ],
 "metadata": {
  "kernelspec": {
   "display_name": "Python 3 (ipykernel)",
   "language": "python",
   "name": "python3"
  },
  "language_info": {
   "codemirror_mode": {
    "name": "ipython",
    "version": 3
   },
   "file_extension": ".py",
   "mimetype": "text/x-python",
   "name": "python",
   "nbconvert_exporter": "python",
   "pygments_lexer": "ipython3",
   "version": "3.9.12"
  }
 },
 "nbformat": 4,
 "nbformat_minor": 5
}
